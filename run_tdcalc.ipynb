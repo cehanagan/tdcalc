{
 "cells": [
  {
   "cell_type": "code",
   "execution_count": null,
   "metadata": {},
   "outputs": [],
   "source": [
    "# standard imports\n",
    "import numpy as np\n",
    "\n",
    "# user-defined imports\n",
    "import tdcalc\n",
    "import test_tdcalc\n",
    "\n",
    "# reload modules when changed\n",
    "%reload_ext autoreload\n",
    "%autoreload 2"
   ]
  },
  {
   "cell_type": "code",
   "execution_count": null,
   "metadata": {},
   "outputs": [],
   "source": [
    "# run automated tests and print timing information\n",
    "test_tdcalc.test_all(-1)"
   ]
  },
  {
   "cell_type": "code",
   "execution_count": null,
   "metadata": {},
   "outputs": [],
   "source": [
    "# example 1: run each function to generate displacements and strains at one point\n",
    "obs = np.array([-3,-3,-3])\n",
    "tri = np.array([[0, 0.1, -0.9],[1, -0.2, -1.2],[1, 1, -0.7]])\n",
    "slip = [1.3,1.4,1.5]\n",
    "nu = 0.25\n",
    "\n",
    "dispFS=tdcalc.TDdispFS(obs,tri,slip,nu)\n",
    "dispHS=tdcalc.TDdispHS(obs,tri,slip,nu)\n",
    "strainFS=tdcalc.TDstrainFS(obs,tri,slip,nu)\n",
    "strainHS=tdcalc.TDstrainHS(obs,tri,slip,nu)\n",
    "print('dispFS',dispFS)\n",
    "print('dispHS',dispHS)\n",
    "print('strainFS',strainFS)\n",
    "print('strainHS',strainHS)\n",
    "# note that the last two components of strain, Exz and Eyz,\n",
    "# are zero for points at the surface, as expected"
   ]
  },
  {
   "cell_type": "code",
   "execution_count": null,
   "metadata": {},
   "outputs": [],
   "source": [
    "#example 2: generate half-space displacements and strains at two points\n",
    "obs=np.array([[-3,-3,-3],[4,-3,0]])\n",
    "print(np.shape(obs))\n",
    "tri = np.array([[0, 0.1, -0.9],[1, -0.2, -1.2],[1, 1, -0.7]])\n",
    "slip=[1.3,1.4,1.5]\n",
    "nu=0.25\n",
    "displ=tdcalc.TDdispHS(obs,tri,slip,nu)\n",
    "print('displ',displ, np.shape(displ))\n",
    "strain=tdcalc.TDstrainHS(obs,tri,slip,nu)\n",
    "print('strain',strain, np.shape(strain))\n",
    "# note that the last two components, Exz and Eyz are zero for points at the surface, as expected"
   ]
  }
 ],
 "metadata": {
  "kernelspec": {
   "display_name": "Python 3",
   "language": "python",
   "name": "python3"
  },
  "language_info": {
   "codemirror_mode": {
    "name": "ipython",
    "version": 3
   },
   "file_extension": ".py",
   "mimetype": "text/x-python",
   "name": "python",
   "nbconvert_exporter": "python",
   "pygments_lexer": "ipython3",
   "version": "3.7.6"
  }
 },
 "nbformat": 4,
 "nbformat_minor": 4
}
