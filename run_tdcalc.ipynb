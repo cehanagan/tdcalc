{
 "cells": [
  {
   "cell_type": "code",
   "execution_count": 3,
   "metadata": {},
   "outputs": [],
   "source": [
    "# standard imports\n",
    "import numpy as np\n",
    "\n",
    "# user-defined imports\n",
    "import tdcalc\n",
    "import test_tdcalc\n",
    "\n",
    "# reload modules when changed\n",
    "%reload_ext autoreload\n",
    "%autoreload 2"
   ]
  },
  {
   "cell_type": "code",
   "execution_count": 4,
   "metadata": {},
   "outputs": [
    {
     "name": "stdout",
     "output_type": "stream",
     "text": [
      "loading matlab_source/FS_simple.mat\n",
      "displacements for 1000 points generated in 0.001483 seconds\n",
      "time rel. to MATLAB:  0.24078207582820088\n",
      "strains for 1000 points generated in 0.001820 seconds\n",
      "time rel. to MATLAB:  0.27209277851936753\n",
      "Test success!\n",
      "\n",
      "loading matlab_source/FS_complex.mat\n",
      "displacements for 1000 points generated in 0.000965 seconds\n",
      "time rel. to MATLAB:  0.12329294567050232\n",
      "strains for 1000 points generated in 0.001741 seconds\n",
      "time rel. to MATLAB:  0.5089130366886482\n",
      "Test success!\n",
      "\n",
      "loading matlab_source/HS_simple.mat\n",
      "displacements for 1000 points generated in 0.006278 seconds\n",
      "time rel. to MATLAB:  0.12517789230276433\n",
      "strains for 1000 points generated in 0.043401 seconds\n",
      "time rel. to MATLAB:  0.2913050387271779\n",
      "Test success!\n",
      "\n",
      "loading matlab_source/HS_complex.mat\n",
      "displacements for 1000 points generated in 0.006028 seconds\n",
      "time rel. to MATLAB:  0.5740464791502962\n",
      "strains for 1000 points generated in 0.042890 seconds\n",
      "time rel. to MATLAB:  0.4534046791370649\n",
      "Test success!\n",
      "\n"
     ]
    }
   ],
   "source": [
    "# run automated tests and print timing information\n",
    "test_tdcalc.test_all(-1)"
   ]
  },
  {
   "cell_type": "code",
   "execution_count": 5,
   "metadata": {},
   "outputs": [
    {
     "name": "stdout",
     "output_type": "stream",
     "text": [
      "dispFS [[-0.00090737 -0.0001836  -0.00176303]]\n",
      "dispHS [[ 0.00017034  0.00076251 -0.00046315]]\n",
      "strainFS [[-2.10533296e-04 -4.84572014e-04  7.10544358e-04 -5.03624698e-04\n",
      "   1.48433869e-04 -2.68177238e-05]]\n",
      "strainHS [[ 1.25577298e-04 -3.98975305e-04  2.99690430e-04 -1.09775085e-04\n",
      "   2.92379647e-04  9.72935129e-05]]\n"
     ]
    }
   ],
   "source": [
    "# example 1: run each function to generate displacements and strains at one point\n",
    "obs = np.array([-3,-3,-3])\n",
    "tri = np.array([[0, 0.1, -0.9],[1, -0.2, -1.2],[1, 1, -0.7]])\n",
    "slip = [1.3,1.4,1.5]\n",
    "nu = 0.25\n",
    "\n",
    "dispFS=tdcalc.TDdispFS(obs,tri,slip,nu)\n",
    "dispHS=tdcalc.TDdispHS(obs,tri,slip,nu)\n",
    "strainFS=tdcalc.TDstrainFS(obs,tri,slip,nu)\n",
    "strainHS=tdcalc.TDstrainHS(obs,tri,slip,nu)\n",
    "print('dispFS',dispFS)\n",
    "print('dispHS',dispHS)\n",
    "print('strainFS',strainFS)\n",
    "print('strainHS',strainHS)\n",
    "# note that the last two components of strain, Exz and Eyz,\n",
    "# are zero for points at the surface, as expected"
   ]
  },
  {
   "cell_type": "code",
   "execution_count": 6,
   "metadata": {},
   "outputs": [
    {
     "name": "stdout",
     "output_type": "stream",
     "text": [
      "(2, 3)\n",
      "displ [[ 0.00017034  0.00076251 -0.00046315]\n",
      " [ 0.00229165 -0.00095948  0.00019395]] (2, 3)\n",
      "strain [[ 1.25577298e-04 -3.98975305e-04  2.99690430e-04 -1.09775085e-04\n",
      "   2.92379647e-04  9.72935129e-05]\n",
      " [ 7.13092695e-05 -1.38262001e-03  4.37103580e-04  1.03371274e-03\n",
      "  -2.41528903e-18  3.47486592e-18]] (2, 6)\n"
     ]
    }
   ],
   "source": [
    "#example 2: generate half-space displacements and strains at two points\n",
    "obs=np.array([[-3,-3,-3],[4,-3,0]])\n",
    "print(np.shape(obs))\n",
    "tri = np.array([[0, 0.1, -0.9],[1, -0.2, -1.2],[1, 1, -0.7]])\n",
    "slip=[1.3,1.4,1.5]\n",
    "nu=0.25\n",
    "displ=tdcalc.TDdispHS(obs,tri,slip,nu)\n",
    "print('displ',displ, np.shape(displ))\n",
    "strain=tdcalc.TDstrainHS(obs,tri,slip,nu)\n",
    "print('strain',strain, np.shape(strain))\n",
    "# note that the last two components, Exz and Eyz are zero for points at the surface, as expected"
   ]
  },
  {
   "cell_type": "code",
   "execution_count": null,
   "metadata": {},
   "outputs": [],
   "source": []
  }
 ],
 "metadata": {
  "kernelspec": {
   "display_name": "Python 3",
   "language": "python",
   "name": "python3"
  },
  "language_info": {
   "codemirror_mode": {
    "name": "ipython",
    "version": 3
   },
   "file_extension": ".py",
   "mimetype": "text/x-python",
   "name": "python",
   "nbconvert_exporter": "python",
   "pygments_lexer": "ipython3",
   "version": "3.12.2"
  }
 },
 "nbformat": 4,
 "nbformat_minor": 4
}
